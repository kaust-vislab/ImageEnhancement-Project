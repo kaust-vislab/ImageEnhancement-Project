{
 "cells": [
  {
   "cell_type": "code",
   "execution_count": 1,
   "metadata": {},
   "outputs": [
    {
     "name": "stderr",
     "output_type": "stream",
     "text": [
      "/home/mohamed/.local/lib/python3.8/site-packages/torchvision/io/image.py:13: UserWarning: Failed to load image Python extension: libtorch_cuda_cu.so: cannot open shared object file: No such file or directory\n",
      "  warn(f\"Failed to load image Python extension: {e}\")\n"
     ]
    }
   ],
   "source": [
    "import sys\n",
    "sys.path.insert(1,\"../\")\n",
    "from PIL import Image\n",
    "import pandas as pd\n",
    "import numpy as np\n",
    "import matplotlib.pyplot as plt\n",
    "from torch.utils.data import Dataset, DataLoader\n",
    "from torchvision import transforms\n",
    "import torch\n",
    "import SimpleITK as sitk\n",
    "import random\n",
    "from sklearn.model_selection import train_test_split\n",
    "import lightning.pytorch as pl\n",
    "from lightning.pytorch.loggers import TensorBoardLogger\n",
    "from lightning.pytorch.profilers import SimpleProfiler\n",
    "from lightning.pytorch.callbacks import ModelCheckpoint\n",
    "import torcheval.metrics as tm\n",
    "import os\n",
    "from models.mwcnn.mwcnn_model import MWCNN\n",
    "from src.features.build_features import *"
   ]
  },
  {
   "cell_type": "code",
   "execution_count": 2,
   "metadata": {},
   "outputs": [],
   "source": [
    "random.seed(10)"
   ]
  },
  {
   "cell_type": "code",
   "execution_count": 3,
   "metadata": {},
   "outputs": [],
   "source": [
    "data = (pd.read_csv(\"../scratch_pad/csv_files/new_merged.csv\")).drop(columns='index')"
   ]
  },
  {
   "cell_type": "code",
   "execution_count": 4,
   "metadata": {},
   "outputs": [],
   "source": [
    "train , test = train_test_split(data,test_size=0.2)\n",
    "train = train.reset_index(drop=True)\n",
    "test = test.reset_index(drop=True)"
   ]
  },
  {
   "cell_type": "code",
   "execution_count": 5,
   "metadata": {},
   "outputs": [],
   "source": [
    "train, val = train_test_split(train, test_size=0.1)\n",
    "train = train.reset_index(drop=True)\n",
    "val = val.reset_index(drop=True)"
   ]
  },
  {
   "cell_type": "code",
   "execution_count": 6,
   "metadata": {},
   "outputs": [],
   "source": [
    "class dataset(Dataset):\n",
    "    def __init__(self,data_frame,image_compose,mask_compoe):\n",
    "        self.data_frame = data_frame\n",
    "        self.image_compose = image_compose\n",
    "        self.mask_compoe = mask_compoe\n",
    "\n",
    "    def __getitem__(self,item):\n",
    "        file = self.data_frame.iloc[item]['filename']\n",
    "        if self.image_compose:\n",
    "            image = self.image_compose(file)\n",
    "        if self.mask_compoe:\n",
    "            mask = self.mask_compoe(file)\n",
    "        return image,mask\n",
    "    def __len__(self):\n",
    "        return len(self.data_frame)\n"
   ]
  },
  {
   "cell_type": "code",
   "execution_count": 7,
   "metadata": {},
   "outputs": [],
   "source": [
    "train_transformation = transforms.Compose(\n",
    "    [\n",
    "        transforms.Lambda(convert_to_pil),\n",
    "        transforms.Lambda(to_numpy),\n",
    "        transforms.ToTensor(),\n",
    "        transforms.Lambda(wrapper_function),\n",
    "        transforms.Resize((768,768)),\n",
    "        transforms.Lambda(normalize),\n",
    "    ]\n",
    ")\n",
    "val_transformation = transforms.Compose(\n",
    "    [\n",
    "        transforms.Lambda(convert_to_pil),\n",
    "        transforms.Lambda(to_numpy),\n",
    "        transforms.ToTensor(),\n",
    "        transforms.Lambda(wrapper_function),\n",
    "        transforms.Resize((768,768)),\n",
    "        transforms.Lambda(normalize),\n",
    "    ]\n",
    ")\n",
    "\n",
    "mask_transformation = transforms.Compose(\n",
    "    [\n",
    "        transforms.Lambda(convert_to_pil),\n",
    "        transforms.Lambda(to_numpy),\n",
    "        transforms.ToTensor(),\n",
    "        transforms.Resize((768,768)),\n",
    "        transforms.ConvertImageDtype(dtype=torch.float32),\n",
    "    ]\n",
    ")\n"
   ]
  },
  {
   "cell_type": "code",
   "execution_count": 8,
   "metadata": {},
   "outputs": [],
   "source": [
    "ds_train = dataset(train,train_transformation,mask_transformation)"
   ]
  },
  {
   "cell_type": "code",
   "execution_count": 9,
   "metadata": {},
   "outputs": [],
   "source": [
    "ds_val = dataset(val,val_transformation,mask_transformation)"
   ]
  },
  {
   "cell_type": "code",
   "execution_count": 10,
   "metadata": {},
   "outputs": [],
   "source": [
    "dl_train = DataLoader(ds_train, batch_size=1, shuffle=True)\n",
    "dl_val = DataLoader(ds_val, batch_size=1, shuffle=False)"
   ]
  },
  {
   "cell_type": "code",
   "execution_count": 11,
   "metadata": {},
   "outputs": [],
   "source": [
    "class LightningModel(pl.LightningModule):\n",
    "    def __init__(self, metric,model,optimizer,loss_fn,log_lr):\n",
    "        super().__init__()\n",
    "        self.model = model\n",
    "        self.metric = metric\n",
    "        self.optimizer = optimizer\n",
    "        self.loss_fn = loss_fn\n",
    "        self.log_lr = log_lr\n",
    "        self.n_steps_train=0\n",
    "        self.loss_per_epoch_train=0\n",
    "        self.n_steps_val=0\n",
    "        self.loss_per_epoch_val=0\n",
    "        self.current_val_epoch=0\n",
    "        \n",
    "\n",
    "    def on_train_epoch_start(self):\n",
    "        self.n_steps_train=0\n",
    "        self.loss_per_epoch_train=0\n",
    "        if self.log_lr:\n",
    "            self.log_dict({\"learning_rate\":self.configure_optimizers()[0].state_dict()['param_groups'][0][\"lr\"]},logger=True)\n",
    "    \n",
    "\n",
    "    def training_step(self, batch, batch_idx):\n",
    "        inputs, target = batch\n",
    "        inputs, target = inputs.to('cpu'), target.to('cpu')\n",
    "        output = self.model(inputs)\n",
    "        train_loss = self.loss_fn(output, target)\n",
    "        scores = self.metric\n",
    "        scores.update(output,target)\n",
    "        metric = scores.compute().item()\n",
    "        self.log_dict({\"train_loss\":metric},on_epoch=True,on_step=True,prog_bar=True,logger=True)\n",
    "        self.n_steps_train+=1\n",
    "        self.loss_per_epoch_train+=train_loss\n",
    "        return train_loss\n",
    "\n",
    "    def on_training_epoch_end(self, outs):\n",
    "        avg=float(self.loss_per_epoch_train)/float(self.n_steps_train)\n",
    "        self.log_dict({\"train_loss_avg\":avg},on_epoch=True,prog_bar=True,logger=True)\n",
    "\n",
    "    def configure_optimizers(self):\n",
    "        return [self.optimizer]"
   ]
  },
  {
   "cell_type": "code",
   "execution_count": 12,
   "metadata": {},
   "outputs": [],
   "source": [
    "model = MWCNN(1,1).to('cpu')\n",
    "loss_fn = torch.nn.MSELoss()\n",
    "metric = tm.PeakSignalNoiseRatio(device='cpu')\n",
    "optimizer=torch.optim.AdamW(model.parameters(),lr=0.003,weight_decay=5e-3)\n",
    "lightning_module=LightningModel(metric=metric,model=model,optimizer=optimizer,loss_fn=loss_fn,log_lr=True)\n",
    "\n",
    "callbacks_compositions=[\n",
    "                        ModelCheckpoint(dirpath=\"../scratch_pad/model_checkpoints\",\n",
    "                                        monitor=\"val_loss_avg\",\n",
    "                                        filename=\"MWCNN_TEST\"+'-{epoch}-{val_loss_avg:.2f}',\n",
    "                                        save_top_k=5,\n",
    "                                        save_weights_only=False)]\n",
    "logger = TensorBoardLogger(save_dir=\"../scratch_pad/tesnorboard_logs\", version=1, name=\"MWCNN_TEST\")\n",
    "profiler = SimpleProfiler(dirpath=os.getcwd(),filename=\"MWCNN_TEST\")\n"
   ]
  },
  {
   "cell_type": "code",
   "execution_count": 13,
   "metadata": {},
   "outputs": [
    {
     "name": "stderr",
     "output_type": "stream",
     "text": [
      "GPU available: True (cuda), used: False\n",
      "TPU available: False, using: 0 TPU cores\n",
      "IPU available: False, using: 0 IPUs\n",
      "HPU available: False, using: 0 HPUs\n",
      "/home/mohamed/.local/lib/python3.8/site-packages/lightning/pytorch/trainer/setup.py:187: GPU available but not used. You can set it by doing `Trainer(accelerator='gpu')`.\n",
      "2024-01-02 15:22:48.647237: I tensorflow/core/platform/cpu_feature_guard.cc:193] This TensorFlow binary is optimized with oneAPI Deep Neural Network Library (oneDNN) to use the following CPU instructions in performance-critical operations:  AVX2 AVX512F AVX512_VNNI FMA\n",
      "To enable them in other operations, rebuild TensorFlow with the appropriate compiler flags.\n",
      "2024-01-02 15:22:48.752477: I tensorflow/core/util/port.cc:104] oneDNN custom operations are on. You may see slightly different numerical results due to floating-point round-off errors from different computation orders. To turn them off, set the environment variable `TF_ENABLE_ONEDNN_OPTS=0`.\n",
      "2024-01-02 15:22:49.213438: W tensorflow/compiler/xla/stream_executor/platform/default/dso_loader.cc:64] Could not load dynamic library 'libnvinfer.so.7'; dlerror: libnvinfer.so.7: cannot open shared object file: No such file or directory\n",
      "2024-01-02 15:22:49.213486: W tensorflow/compiler/xla/stream_executor/platform/default/dso_loader.cc:64] Could not load dynamic library 'libnvinfer_plugin.so.7'; dlerror: libnvinfer_plugin.so.7: cannot open shared object file: No such file or directory\n",
      "2024-01-02 15:22:49.213490: W tensorflow/compiler/tf2tensorrt/utils/py_utils.cc:38] TF-TRT Warning: Cannot dlopen some TensorRT libraries. If you would like to use Nvidia GPU with TensorRT, please make sure the missing libraries mentioned above are installed properly.\n",
      "/home/mohamed/.local/lib/python3.8/site-packages/lightning/pytorch/callbacks/model_checkpoint.py:639: Checkpoint directory /home/mohamed/BS/kvl_repo/ImageEnhancement-Project/scratch_pad/model_checkpoints exists and is not empty.\n",
      "\n",
      "  | Name    | Type    | Params\n",
      "------------------------------------\n",
      "0 | model   | MWCNN   | 24.9 M\n",
      "1 | loss_fn | MSELoss | 0     \n",
      "------------------------------------\n",
      "24.9 M    Trainable params\n",
      "0         Non-trainable params\n",
      "24.9 M    Total params\n",
      "99.711    Total estimated model params size (MB)\n",
      "/home/mohamed/.local/lib/python3.8/site-packages/lightning/pytorch/trainer/connectors/data_connector.py:441: The 'train_dataloader' does not have many workers which may be a bottleneck. Consider increasing the value of the `num_workers` argument` to `num_workers=15` in the `DataLoader` to improve performance.\n"
     ]
    },
    {
     "data": {
      "application/vnd.jupyter.widget-view+json": {
       "model_id": "2689e4a030d44523b5d1a4a0de6939a8",
       "version_major": 2,
       "version_minor": 0
      },
      "text/plain": [
       "Training: |          | 0/? [00:00<?, ?it/s]"
      ]
     },
     "metadata": {},
     "output_type": "display_data"
    },
    {
     "name": "stdout",
     "output_type": "stream",
     "text": [
      "x2 -1 -1\n",
      "<built-in method get_device of Tensor object at 0x7f2629495b80>\n",
      "x2 -1 -1\n",
      "<built-in method get_device of Tensor object at 0x7f26280adf90>\n",
      "x2 -1 -1\n"
     ]
    },
    {
     "name": "stderr",
     "output_type": "stream",
     "text": [
      "/home/mohamed/.local/lib/python3.8/site-packages/lightning/pytorch/trainer/call.py:54: Detected KeyboardInterrupt, attempting graceful shutdown...\n"
     ]
    }
   ],
   "source": [
    "trainer = pl.Trainer(\n",
    "            max_epochs=2,\n",
    "            profiler=profiler,\n",
    "            logger=logger,\n",
    "            accelerator='cpu',\n",
    "            # devices=1,\n",
    "            # accumulate_grad_batches=10,\n",
    "            callbacks=callbacks_compositions,\n",
    "            log_every_n_steps=1,\n",
    "            # precision=32,\n",
    "            # limit_train_batches=100,\n",
    "            # limit_val_batches=100,\n",
    "            # auto_lr_find=True,\n",
    "            )\n",
    "trainer.fit(model=lightning_module, train_dataloaders=dl_train)"
   ]
  }
 ],
 "metadata": {
  "kernelspec": {
   "display_name": "Python 3",
   "language": "python",
   "name": "python3"
  },
  "language_info": {
   "codemirror_mode": {
    "name": "ipython",
    "version": 3
   },
   "file_extension": ".py",
   "mimetype": "text/x-python",
   "name": "python",
   "nbconvert_exporter": "python",
   "pygments_lexer": "ipython3",
   "version": "3.8.10"
  }
 },
 "nbformat": 4,
 "nbformat_minor": 2
}
