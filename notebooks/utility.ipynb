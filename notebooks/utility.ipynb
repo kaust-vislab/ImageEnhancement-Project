{
 "cells": [
  {
   "cell_type": "code",
   "execution_count": 3,
   "metadata": {},
   "outputs": [],
   "source": [
    "import pandas as pd\n",
    "from PIL import Image\n",
    "import glob\n",
    "import pathlib\n",
    "import csv\n",
    "import numpy as np"
   ]
  },
  {
   "cell_type": "code",
   "execution_count": 13,
   "metadata": {},
   "outputs": [],
   "source": [
    "# Create an empty list to store the image metadata\n",
    "# Search for TIFF image files in the directory\n",
    "for folder in ('15-95-15-15VS-VOI-macro-1-recon','15-97-15-Avg10-30VS-recon'):\n",
    "    metadata_list = []\n",
    "    for image_path in glob.glob(f\"../scratch_pad/data/Pairs-Image-resolution/{folder}/*.tif\"):\n",
    "        # Open the image file\n",
    "        image = Image.open(image_path)\n",
    "\n",
    "        # Extract basic metadata\n",
    "        image_size = image.size\n",
    "        image_height = image.height\n",
    "        image_width = image.width\n",
    "        image_format = image.format\n",
    "        image_mode = image.mode\n",
    "        image_is_animated = getattr(image, \"is_animated\", False)\n",
    "        frames_in_image = getattr(image, \"n_frames\", 1)\n",
    "        # Create a dictionary to store the metadata\n",
    "        # full_path = ''\n",
    "        metadata = {\n",
    "            \"filename\": image_path,\n",
    "            \"size\": image_size,\n",
    "            \"height\": image_height,\n",
    "            \"width\": image_width,\n",
    "            \"format\": image_format,\n",
    "            \"mode\": image_mode,\n",
    "            \"is_animated\": image_is_animated,\n",
    "            \"frames\": frames_in_image,\n",
    "        }\n",
    "\n",
    "        # Add the metadata dictionary to the list\n",
    "        metadata_list.append(metadata)\n",
    "        # numpy_image =  np.asarray(image)\n",
    "\n",
    "        # data_dict[pathlib.Path(image_path).name] = numpy_image\n",
    "    # Write the metadata list to a CSV file\n",
    "    with open(f\"../scratch_pad/csv_files/{folder}.csv\", \"w\", newline=\"\") as csv_file:\n",
    "        writer = csv.DictWriter(csv_file, fieldnames=metadata_list[0].keys())\n",
    "        writer.writeheader()\n",
    "        writer.writerows(metadata_list)"
   ]
  },
  {
   "cell_type": "code",
   "execution_count": 14,
   "metadata": {},
   "outputs": [],
   "source": [
    "data = pd.read_csv(\"../scratch_pad/csv_files/15-95-15-15VS-VOI-macro-1-recon.csv\")\n",
    "data2 = pd.read_csv(\"../scratch_pad/csv_files/15-97-15-Avg10-30VS-recon.csv\")\n",
    "merged = pd.concat([data,data2]).reset_index(drop=True)\n",
    "merged.to_csv('../scratch_pad/csv_files/new_merged.csv')"
   ]
  }
 ],
 "metadata": {
  "kernelspec": {
   "display_name": "Python 3",
   "language": "python",
   "name": "python3"
  },
  "language_info": {
   "codemirror_mode": {
    "name": "ipython",
    "version": 3
   },
   "file_extension": ".py",
   "mimetype": "text/x-python",
   "name": "python",
   "nbconvert_exporter": "python",
   "pygments_lexer": "ipython3",
   "version": "3.8.10"
  }
 },
 "nbformat": 4,
 "nbformat_minor": 2
}
